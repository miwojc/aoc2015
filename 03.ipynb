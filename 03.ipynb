{
 "cells": [
  {
   "cell_type": "raw",
   "id": "31371560-65fb-490a-a1fb-1801bd5da218",
   "metadata": {},
   "source": [
    "---\n",
    "title: \"Advent of Code 2015 Day 3\"\n",
    "author: \"miwojc\"\n",
    "date: \"August 15, 2022\"\n",
    "format:\n",
    "  html:\n",
    "    code-fold: false\n",
    "---"
   ]
  },
  {
   "cell_type": "markdown",
   "id": "63f674db-70ee-4709-8092-2c1cf767c388",
   "metadata": {},
   "source": [
    "# --- Day 3: Perfectly Spherical Houses in a Vacuum ---"
   ]
  },
  {
   "cell_type": "markdown",
   "id": "a48ccfbe-29d7-4a1f-be8d-77dfd6e0c44f",
   "metadata": {},
   "source": [
    "Santa is delivering presents to an infinite two-dimensional grid of houses.\n",
    "\n",
    "He begins by delivering a present to the house at his starting location, and then an elf at the North Pole calls him via radio and tells him where to move next. Moves are always exactly one house to the north (^), south (v), east (>), or west (<). After each move, he delivers another present to the house at his new location.\n",
    "\n",
    "However, the elf back at the north pole has had a little too much eggnog, and so his directions are a little off, and Santa ends up visiting some houses more than once. How many houses receive at least one present?\n",
    "\n",
    "For example:\n",
    "\n",
    "    > delivers presents to 2 houses: one at the starting location, and one to the east.\n",
    "    ^>v< delivers presents to 4 houses in a square, including twice to the house at his starting/ending location.\n",
    "    ^v^v^v^v^v delivers a bunch of presents to some very lucky children at only 2 houses."
   ]
  },
  {
   "cell_type": "markdown",
   "id": "3b12acab-d1a0-481a-929b-c07f2888f367",
   "metadata": {},
   "source": [
    "## Solution"
   ]
  },
  {
   "cell_type": "code",
   "execution_count": 1,
   "id": "1fee4092-8e40-4083-a55f-d8838a164147",
   "metadata": {},
   "outputs": [],
   "source": [
    "from pathlib import Path\n",
    "\n",
    "from fastcore.test import *"
   ]
  },
  {
   "cell_type": "code",
   "execution_count": 2,
   "id": "cc3a63e4-d217-407a-9b36-9231fda968e9",
   "metadata": {},
   "outputs": [],
   "source": [
    "moves = Path(\"input/03\").read_text()"
   ]
  },
  {
   "cell_type": "code",
   "execution_count": 3,
   "id": "7cc8b6e5-1a2d-432e-9783-248f1b55b7fb",
   "metadata": {},
   "outputs": [],
   "source": [
    "def visit_houses(moves: str) -> set[tuple[int, int]]:\n",
    "    \"\"\"Returns number of visited houses, could be more than once\"\"\"\n",
    "    pos = (0, 0)\n",
    "    visited_houses = {pos}\n",
    "    for move in moves:\n",
    "        if move == \"^\":\n",
    "            pos = pos[0], pos[1] + 1\n",
    "        elif move == \"v\":\n",
    "            pos = pos[0], pos[1] - 1\n",
    "        elif move == \">\":\n",
    "            pos = pos[0] + 1, pos[1]\n",
    "        elif move == \"<\":\n",
    "            pos = pos[0] - 1, pos[1]\n",
    "        else:\n",
    "            raise ValueError(\n",
    "                \"Invalid move. Only `^`, `v`, `>` and `<` are valid moves.\"\n",
    "            )\n",
    "        visited_houses.add(pos)\n",
    "    return visited_houses"
   ]
  },
  {
   "cell_type": "markdown",
   "id": "9291912c-baa3-427e-9569-a04d11a1b1b9",
   "metadata": {},
   "source": [
    "## Tests"
   ]
  },
  {
   "cell_type": "code",
   "execution_count": 4,
   "id": "9894298b-5f1f-4d2d-b789-da8ae38f7cb8",
   "metadata": {},
   "outputs": [],
   "source": [
    "test_eq(len(visit_houses(\">\")), 2)\n",
    "test_eq(len(visit_houses(\"^>v<\")), 4)\n",
    "test_eq(len(visit_houses(\"^v^v^v^v^v\")), 2)"
   ]
  },
  {
   "cell_type": "markdown",
   "id": "8c70665e-ae16-4e22-8ade-6c7ba90d93ca",
   "metadata": {},
   "source": [
    "## Solution"
   ]
  },
  {
   "cell_type": "code",
   "execution_count": 5,
   "id": "fecb820e-8921-44c4-b201-e8555ce16b4d",
   "metadata": {},
   "outputs": [
    {
     "data": {
      "text/plain": [
       "2572"
      ]
     },
     "execution_count": 5,
     "metadata": {},
     "output_type": "execute_result"
    }
   ],
   "source": [
    "len(visit_houses(moves))"
   ]
  },
  {
   "cell_type": "markdown",
   "id": "63ac49d8-35a0-4cc2-bde5-ad4156a5a39e",
   "metadata": {},
   "source": [
    "# --- Part Two ---"
   ]
  },
  {
   "cell_type": "markdown",
   "id": "ed4ff858-4d58-4951-a182-16edfbcb2257",
   "metadata": {},
   "source": [
    "The next year, to speed up the process, Santa creates a robot version of himself, Robo-Santa, to deliver presents with him.\n",
    "\n",
    "Santa and Robo-Santa start at the same location (delivering two presents to the same starting house), then take turns moving based on instructions from the elf, who is eggnoggedly reading from the same script as the previous year.\n",
    "\n",
    "This year, how many houses receive at least one present?\n",
    "\n",
    "For example:\n",
    "\n",
    "    ^v delivers presents to 3 houses, because Santa goes north, and then Robo-Santa goes south.\n",
    "    ^>v< now delivers presents to 3 houses, and Santa and Robo-Santa end up back where they started.\n",
    "    ^v^v^v^v^v now delivers presents to 11 houses, with Santa going one direction and Robo-Santa going the other."
   ]
  },
  {
   "cell_type": "markdown",
   "id": "105452a5-bb79-49b9-99cb-c2f3737ec6e8",
   "metadata": {},
   "source": [
    "## Answer"
   ]
  },
  {
   "cell_type": "code",
   "execution_count": 6,
   "id": "152023d6-2ad0-4cda-a13e-7a0eb8254f99",
   "metadata": {},
   "outputs": [],
   "source": [
    "def santa_robot_deliver_presents(moves: str) -> int:\n",
    "    \"\"\"Returns number of visited houses by Santa and Robo-Santa\"\"\"\n",
    "    visited_houses_santa = visit_houses(moves[::2])\n",
    "    visited_houses_robot = visit_houses(moves[1::2])\n",
    "    visited_houses_santa.update(visited_houses_robot)\n",
    "    return len(visited_houses_santa)"
   ]
  },
  {
   "cell_type": "markdown",
   "id": "a7c0f1fd-bd3b-46cc-9c99-17a67f1fe2b9",
   "metadata": {
    "tags": []
   },
   "source": [
    "## Tests"
   ]
  },
  {
   "cell_type": "code",
   "execution_count": 7,
   "id": "32bac557-62cc-4b22-b676-f7140ab217bd",
   "metadata": {},
   "outputs": [],
   "source": [
    "test_eq(santa_robot_deliver_presents(\"^v\"), 3)\n",
    "test_eq(santa_robot_deliver_presents(\"^>v<\"), 3)\n",
    "test_eq(santa_robot_deliver_presents(\"^v^v^v^v^v\"), 11)"
   ]
  },
  {
   "cell_type": "markdown",
   "id": "67502850-1ac8-4dc9-a340-de3b368ed1d3",
   "metadata": {},
   "source": [
    "## Answer"
   ]
  },
  {
   "cell_type": "code",
   "execution_count": 8,
   "id": "c176f2cc-67ed-4570-a657-be669cc96f2e",
   "metadata": {},
   "outputs": [
    {
     "data": {
      "text/plain": [
       "2631"
      ]
     },
     "execution_count": 8,
     "metadata": {},
     "output_type": "execute_result"
    }
   ],
   "source": [
    "santa_robot_deliver_presents(moves)"
   ]
  }
 ],
 "metadata": {
  "kernelspec": {
   "display_name": "Python 3 (ipykernel)",
   "language": "python",
   "name": "python3"
  },
  "language_info": {
   "codemirror_mode": {
    "name": "ipython",
    "version": 3
   },
   "file_extension": ".py",
   "mimetype": "text/x-python",
   "name": "python",
   "nbconvert_exporter": "python",
   "pygments_lexer": "ipython3",
   "version": "3.9.13"
  }
 },
 "nbformat": 4,
 "nbformat_minor": 5
}
