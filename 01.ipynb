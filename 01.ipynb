{
 "cells": [
  {
   "cell_type": "raw",
   "id": "3438ecd6-89d9-4b63-a836-38b92822d151",
   "metadata": {},
   "source": [
    "---\n",
    "title: \"Advent of Code 2015 Day 1\"\n",
    "author: \"miwojc\"\n",
    "date: \"August 11, 2022\"\n",
    "format:\n",
    "  html:\n",
    "    code-fold: false\n",
    "---"
   ]
  },
  {
   "cell_type": "markdown",
   "id": "427b94fa-2a43-46a0-aa33-45b53028cdf3",
   "metadata": {},
   "source": [
    "# --- Day 1: Not Quite Lisp ---"
   ]
  },
  {
   "cell_type": "markdown",
   "id": "5439adee-9b8b-48c5-883d-e2a9ead76ed4",
   "metadata": {},
   "source": [
    "## Instructions"
   ]
  },
  {
   "cell_type": "markdown",
   "id": "e37c91a2-9dfb-4b54-bba1-cc2f588444d2",
   "metadata": {},
   "source": [
    "Santa was hoping for a white Christmas, but his weather machine's \"snow\" function is powered by stars, and he's fresh out! To save Christmas, he needs you to collect fifty stars by December 25th.\n",
    "\n",
    "Collect stars by helping Santa solve puzzles. Two puzzles will be made available on each day in the Advent calendar; the second puzzle is unlocked when you complete the first. Each puzzle grants one star. Good luck!\n",
    "\n",
    "Here's an easy puzzle to warm you up.\n",
    "\n",
    "Santa is trying to deliver presents in a large apartment building, but he can't find the right floor - the directions he got are a little confusing. He starts on the ground floor (floor 0) and then follows the instructions one character at a time.\n",
    "\n",
    "An opening parenthesis, (, means he should go up one floor, and a closing parenthesis, ), means he should go down one floor.\n",
    "\n",
    "The apartment building is very tall, and the basement is very deep; he will never find the top or bottom floors.\n",
    "\n",
    "For example:\n",
    "\n",
    "    (()) and ()() both result in floor 0.\n",
    "    ((( and (()(()( both result in floor 3.\n",
    "    ))((((( also results in floor 3.\n",
    "    ()) and ))( both result in floor -1 (the first basement level).\n",
    "    ))) and )())()) both result in floor -3.\n",
    "\n",
    "To what floor do the instructions take Santa?\n"
   ]
  },
  {
   "cell_type": "markdown",
   "id": "0cfec99b-81b6-4e22-b578-f1245ab54a16",
   "metadata": {},
   "source": [
    "## Solution"
   ]
  },
  {
   "cell_type": "code",
   "execution_count": 1,
   "id": "a7ee64eb-00c8-43c8-b358-a59a5f7ea597",
   "metadata": {},
   "outputs": [],
   "source": [
    "from pathlib import Path\n",
    "from fastcore.test import *"
   ]
  },
  {
   "cell_type": "code",
   "execution_count": 2,
   "id": "f9161259-c83f-44bd-b60a-956d4e97f9f0",
   "metadata": {},
   "outputs": [],
   "source": [
    "def part1(directions: str) -> int:\n",
    "    \"\"\"Returns floor number based on input directions\"\"\"\n",
    "    return sum(1 if char == \"(\" else -1 for char in directions)"
   ]
  },
  {
   "cell_type": "markdown",
   "id": "dff26d73-1809-4e24-86ae-51ae630923f4",
   "metadata": {},
   "source": [
    "## Tests"
   ]
  },
  {
   "cell_type": "code",
   "execution_count": 3,
   "id": "f53c7af8-9062-42ee-bf61-bd7cb66c5235",
   "metadata": {},
   "outputs": [],
   "source": [
    "test_eq(part1(\"(())\"), 0)\n",
    "test_eq(part1(\"()()\"), 0)\n",
    "test_eq(part1(\"(((\"), 3)\n",
    "test_eq(part1(\"(()(()(\"), 3)\n",
    "test_eq(part1(\"))(((((\"), 3)\n",
    "test_eq(part1(\"())\"), -1)\n",
    "test_eq(part1(\"))(\"), -1)\n",
    "test_eq(part1(\")))\"), -3)\n",
    "test_eq(part1(\")())())\"), -3)"
   ]
  },
  {
   "cell_type": "markdown",
   "id": "3869e03c-f071-409b-bb9d-bff86e8eb353",
   "metadata": {},
   "source": [
    "## Answer"
   ]
  },
  {
   "cell_type": "code",
   "execution_count": 4,
   "id": "13536eca-a33c-4d76-afb5-7035bdb1d979",
   "metadata": {},
   "outputs": [
    {
     "data": {
      "text/plain": [
       "280"
      ]
     },
     "execution_count": 4,
     "metadata": {},
     "output_type": "execute_result"
    }
   ],
   "source": [
    "directions = Path(\"input/01\").read_text()\n",
    "part1(directions)"
   ]
  },
  {
   "cell_type": "markdown",
   "id": "56782198-9dfe-44e2-90e0-ccfaf0d365e7",
   "metadata": {},
   "source": [
    "# --- Part Two ---"
   ]
  },
  {
   "cell_type": "markdown",
   "id": "52356795-e980-4e73-9904-fe354ef9038c",
   "metadata": {},
   "source": [
    "## Instructions"
   ]
  },
  {
   "cell_type": "markdown",
   "id": "798cf162-0d65-4669-9f41-6e504ea07ee1",
   "metadata": {},
   "source": [
    "Now, given the same instructions, find the position of the first character that causes him to enter the basement (floor -1). The first character in the instructions has position 1, the second character has position 2, and so on.\n",
    "\n",
    "For example:\n",
    "\n",
    "    ) causes him to enter the basement at character position 1.\n",
    "    ()()) causes him to enter the basement at character position 5.\n",
    "\n",
    "What is the position of the character that causes Santa to first enter the basement?"
   ]
  },
  {
   "cell_type": "markdown",
   "id": "6fcae647-118b-4590-9676-402aa1c58a8d",
   "metadata": {},
   "source": [
    "## Solution"
   ]
  },
  {
   "cell_type": "code",
   "execution_count": 5,
   "id": "a45f5fcb-d674-4886-ab2b-ecb6a224c244",
   "metadata": {},
   "outputs": [],
   "source": [
    "from itertools import accumulate"
   ]
  },
  {
   "cell_type": "code",
   "execution_count": 6,
   "id": "f9622bb7-d46d-42cb-9f51-d5453cb5956c",
   "metadata": {},
   "outputs": [],
   "source": [
    "def part2(directions: str) -> int:\n",
    "    \"\"\"Returns the positoin of the first character that leads to the basement\"\"\"\n",
    "    acc = accumulate(1 if char == '(' else -1 for char in directions)\n",
    "    for position, floor in enumerate(acc, start=1):\n",
    "        if floor == -1:\n",
    "            return position\n",
    "    raise ValueError(\"Didn't reach basement\")"
   ]
  },
  {
   "cell_type": "markdown",
   "id": "43c9cd42-f08b-42a7-aaf2-3c505715668d",
   "metadata": {},
   "source": [
    "## Tests"
   ]
  },
  {
   "cell_type": "code",
   "execution_count": 7,
   "id": "4dcc9475-ff14-47d9-8ca7-bbb4c29987d7",
   "metadata": {},
   "outputs": [],
   "source": [
    "test_eq(part2(\")\"), 1)\n",
    "test_eq(part2(\"()())\"), 5)\n",
    "test_fail(part2, args=\"(\")"
   ]
  },
  {
   "cell_type": "markdown",
   "id": "dbc63f7d-b600-48f3-b1ef-2ee5e94e0169",
   "metadata": {},
   "source": [
    "## Answer"
   ]
  },
  {
   "cell_type": "code",
   "execution_count": 8,
   "id": "e1427615-be7e-4e42-8af9-ba653423ac09",
   "metadata": {},
   "outputs": [
    {
     "data": {
      "text/plain": [
       "1797"
      ]
     },
     "execution_count": 8,
     "metadata": {},
     "output_type": "execute_result"
    }
   ],
   "source": [
    "part2(directions)"
   ]
  }
 ],
 "metadata": {
  "kernelspec": {
   "display_name": "Python 3 (ipykernel)",
   "language": "python",
   "name": "python3"
  },
  "language_info": {
   "codemirror_mode": {
    "name": "ipython",
    "version": 3
   },
   "file_extension": ".py",
   "mimetype": "text/x-python",
   "name": "python",
   "nbconvert_exporter": "python",
   "pygments_lexer": "ipython3",
   "version": "3.9.13"
  }
 },
 "nbformat": 4,
 "nbformat_minor": 5
}
