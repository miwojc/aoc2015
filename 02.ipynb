{
 "cells": [
  {
   "cell_type": "raw",
   "id": "b79ceda3-5ce6-4639-bd62-f7dd1a516f9a",
   "metadata": {},
   "source": [
    "---\n",
    "title: \"Advent of Code 2015: Day 2\"\n",
    "author: \"miwojc\"\n",
    "date: \"August 12, 2022\"\n",
    "format:\n",
    "  html:\n",
    "    code-fold: false\n",
    "---"
   ]
  },
  {
   "cell_type": "markdown",
   "id": "4b59e481-ad7d-4746-b28f-188873bb6dba",
   "metadata": {},
   "source": [
    "# --- Day 2: I Was Told There Would Be No Math ---"
   ]
  },
  {
   "cell_type": "markdown",
   "id": "cc9e181c-46a4-4367-a307-188a6a5a455b",
   "metadata": {},
   "source": [
    "The elves are running low on wrapping paper, and so they need to submit an order for more. They have a list of the dimensions (length l, width w, and height h) of each present, and only want to order exactly as much as they need.\n",
    "\n",
    "Fortunately, every present is a box (a perfect right rectangular prism), which makes calculating the required wrapping paper for each gift a little easier: find the surface area of the box, which is 2*l*w + 2*w*h + 2*h*l. The elves also need a little extra paper for each present: the area of the smallest side.\n",
    "\n",
    "For example:\n",
    "\n",
    "    A present with dimensions 2x3x4 requires 2*6 + 2*12 + 2*8 = 52 square feet of wrapping paper plus 6 square feet of slack, for a total of 58 square feet.\n",
    "    A present with dimensions 1x1x10 requires 2*1 + 2*10 + 2*10 = 42 square feet of wrapping paper plus 1 square foot of slack, for a total of 43 square feet.\n",
    "\n",
    "All numbers in the elves' list are in feet. How many total square feet of wrapping paper should they order?"
   ]
  },
  {
   "cell_type": "markdown",
   "id": "7870ea72-e05a-4965-bd66-6b414322816a",
   "metadata": {},
   "source": [
    "## Solution"
   ]
  },
  {
   "cell_type": "code",
   "execution_count": 1,
   "id": "44c20dd8-4d08-418a-bfca-426e177a6497",
   "metadata": {},
   "outputs": [],
   "source": [
    "from pathlib import Path\n",
    "from typing import Generator\n",
    "\n",
    "from fastcore.test import *"
   ]
  },
  {
   "cell_type": "code",
   "execution_count": 2,
   "id": "86639785-eaa0-4429-8ca0-b93280dfe062",
   "metadata": {},
   "outputs": [],
   "source": [
    "def get_boxes(path: str) -> Generator[tuple[int, ...], None, None]:\n",
    "    \"\"\"Returns boxes from input path\"\"\"\n",
    "    return (\n",
    "        tuple(map(int, box.split(\"x\")))\n",
    "        for box in Path(path).read_text().strip().split(\"\\n\")\n",
    "    )"
   ]
  },
  {
   "cell_type": "code",
   "execution_count": 3,
   "id": "8ae4a3ce-19fc-4918-baae-b3817fec0647",
   "metadata": {},
   "outputs": [],
   "source": [
    "def part1(boxes: Generator[tuple[int, ...], None, None]) -> int:\n",
    "    \"\"\"Returns total ara of all boxes plus extra as smallest side of each box\"\"\"\n",
    "    total_area = 0\n",
    "    for box in boxes:\n",
    "        l, w, h = box\n",
    "        area_sides = (l * w, l * h, w * h)\n",
    "        area = 2 * sum(area_sides)\n",
    "        total_area += area + min(area_sides)\n",
    "    return total_area"
   ]
  },
  {
   "cell_type": "markdown",
   "id": "6616de58-847b-4568-9c87-8cf04267e7fd",
   "metadata": {},
   "source": [
    "## Tests"
   ]
  },
  {
   "cell_type": "code",
   "execution_count": 4,
   "id": "c29e3c0a-1059-4bb1-89c7-64f706593dca",
   "metadata": {},
   "outputs": [],
   "source": [
    "test_eq(part1(((2, 3, 4),)), 58)\n",
    "test_eq(part1(((1, 1, 10),)), 43)"
   ]
  },
  {
   "cell_type": "markdown",
   "id": "8bccd2f9-799b-4168-9af0-6c41468b31a9",
   "metadata": {},
   "source": [
    "## Answer"
   ]
  },
  {
   "cell_type": "code",
   "execution_count": 5,
   "id": "8163d79e-dba8-4acd-9ab6-6c7da05cbbfb",
   "metadata": {},
   "outputs": [
    {
     "data": {
      "text/plain": [
       "1586300"
      ]
     },
     "execution_count": 5,
     "metadata": {},
     "output_type": "execute_result"
    }
   ],
   "source": [
    "boxes = get_boxes(\"input/02\")\n",
    "part1(boxes)"
   ]
  },
  {
   "cell_type": "markdown",
   "id": "64662ad8-c8f8-419c-8f8f-2b4424725981",
   "metadata": {},
   "source": [
    "# --- Part Two ---"
   ]
  },
  {
   "cell_type": "markdown",
   "id": "eea96f36-4417-4c5e-8231-1ce39a27e5a5",
   "metadata": {},
   "source": [
    "The elves are also running low on ribbon. Ribbon is all the same width, so they only have to worry about the length they need to order, which they would again like to be exact.\n",
    "\n",
    "The ribbon required to wrap a present is the shortest distance around its sides, or the smallest perimeter of any one face. Each present also requires a bow made out of ribbon as well; the feet of ribbon required for the perfect bow is equal to the cubic feet of volume of the present. Don't ask how they tie the bow, though; they'll never tell.\n",
    "\n",
    "For example:\n",
    "\n",
    "    A present with dimensions 2x3x4 requires 2+2+3+3 = 10 feet of ribbon to wrap the present plus 2*3*4 = 24 feet of ribbon for the bow, for a total of 34 feet.\n",
    "    A present with dimensions 1x1x10 requires 1+1+1+1 = 4 feet of ribbon to wrap the present plus 1*1*10 = 10 feet of ribbon for the bow, for a total of 14 feet.\n",
    "\n",
    "How many total feet of ribbon should they order?"
   ]
  },
  {
   "cell_type": "markdown",
   "id": "5d365c22-b334-492e-b393-471df8a88cde",
   "metadata": {},
   "source": [
    "## Solution"
   ]
  },
  {
   "cell_type": "code",
   "execution_count": 6,
   "id": "29bc6ad6-76f0-4b04-97bd-27913755abd1",
   "metadata": {},
   "outputs": [],
   "source": [
    "def part2(boxes: Generator[tuple[int, ...], None, None]) -> int:\n",
    "    \"\"\"Returns exact needed length of the ribbon\"\"\"\n",
    "    ribbon_total = 0\n",
    "    for box in boxes:\n",
    "        s1, s2, s3 = sorted(box)\n",
    "        ribbon_box = 2 * s1 + 2 * s2 + s1 * s2 * s3\n",
    "        ribbon_total += ribbon_box\n",
    "    return ribbon_total"
   ]
  },
  {
   "cell_type": "markdown",
   "id": "647c06b3-89bc-4016-a9c1-81355797c779",
   "metadata": {},
   "source": [
    "## Tests"
   ]
  },
  {
   "cell_type": "code",
   "execution_count": 7,
   "id": "2e5017e6-e51a-418d-9e71-db8635d8b383",
   "metadata": {},
   "outputs": [],
   "source": [
    "test_eq(part2(((2, 3, 4),)), 34)\n",
    "test_eq(part2(((1, 1, 10),)), 14)"
   ]
  },
  {
   "cell_type": "markdown",
   "id": "c7587782-b58d-46f2-8366-0970d55a98ce",
   "metadata": {},
   "source": [
    "## Answer"
   ]
  },
  {
   "cell_type": "code",
   "execution_count": 8,
   "id": "87fb251d-a4b8-4b78-9414-12c14879b7c8",
   "metadata": {},
   "outputs": [
    {
     "data": {
      "text/plain": [
       "3737498"
      ]
     },
     "execution_count": 8,
     "metadata": {},
     "output_type": "execute_result"
    }
   ],
   "source": [
    "boxes = get_boxes(\"input/02\")\n",
    "part2(boxes)"
   ]
  }
 ],
 "metadata": {
  "kernelspec": {
   "display_name": "Python 3 (ipykernel)",
   "language": "python",
   "name": "python3"
  },
  "language_info": {
   "codemirror_mode": {
    "name": "ipython",
    "version": 3
   },
   "file_extension": ".py",
   "mimetype": "text/x-python",
   "name": "python",
   "nbconvert_exporter": "python",
   "pygments_lexer": "ipython3",
   "version": "3.9.13"
  }
 },
 "nbformat": 4,
 "nbformat_minor": 5
}
